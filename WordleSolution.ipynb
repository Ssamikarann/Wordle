{
  "nbformat": 4,
  "nbformat_minor": 0,
  "metadata": {
    "colab": {
      "name": "WordleSolution.ipynb",
      "provenance": [],
      "authorship_tag": "ABX9TyOWG7rj9natQ4+q9UtkupqV",
      "include_colab_link": true
    },
    "kernelspec": {
      "name": "python3",
      "display_name": "Python 3"
    },
    "language_info": {
      "name": "python"
    }
  },
  "cells": [
    {
      "cell_type": "markdown",
      "metadata": {
        "id": "view-in-github",
        "colab_type": "text"
      },
      "source": [
        "<a href=\"https://colab.research.google.com/github/Ssamikarann/Wordle/blob/main/WordleSolution.ipynb\" target=\"_parent\"><img src=\"https://colab.research.google.com/assets/colab-badge.svg\" alt=\"Open In Colab\"/></a>"
      ]
    },
    {
      "cell_type": "code",
      "execution_count": 97,
      "metadata": {
        "id": "rDBmQE1DOj7Y"
      },
      "outputs": [],
      "source": [
        "import pandas as pd\n",
        "import requests\n",
        "import numpy as np\n",
        "import string\n"
      ]
    },
    {
      "cell_type": "code",
      "source": [
        "## Getting relevant words from dictionary"
      ],
      "metadata": {
        "id": "Dnb-OKBZkZ9O"
      },
      "execution_count": 98,
      "outputs": []
    },
    {
      "cell_type": "code",
      "source": [
        "\n",
        "\n",
        "\n",
        "url = \"https://norvig.com/ngrams/count_1w.txt\"\n",
        "req = requests.get(url)\n",
        "if req.status_code == requests.codes.ok:\n",
        "    given_text = req.text  "
      ],
      "metadata": {
        "id": "SKK9xvMwPCkQ"
      },
      "execution_count": 99,
      "outputs": []
    },
    {
      "cell_type": "code",
      "source": [
        "word_list = given_text.split()"
      ],
      "metadata": {
        "id": "Ni1xzVMlSdp-"
      },
      "execution_count": 100,
      "outputs": []
    },
    {
      "cell_type": "code",
      "source": [
        "useful_words = [word for word in word_list if len(word)==5 and word.isdigit()==False]"
      ],
      "metadata": {
        "id": "MLAtBb3rQG1K"
      },
      "execution_count": 101,
      "outputs": []
    },
    {
      "cell_type": "code",
      "source": [
        "useful_4_letter_words_list = [word for word in word_list if len(word)==4 and word.isdigit()==False]"
      ],
      "metadata": {
        "id": "F_XXOUxppwsN"
      },
      "execution_count": 102,
      "outputs": []
    },
    {
      "cell_type": "code",
      "source": [
        "#[word for word in useful_words if word[:4] in useful_4_letter_words_list]"
      ],
      "metadata": {
        "id": "0A-0U37jp4dx"
      },
      "execution_count": 103,
      "outputs": []
    },
    {
      "cell_type": "code",
      "source": [
        "#useful_words"
      ],
      "metadata": {
        "id": "Oj4U5TWgpNwB"
      },
      "execution_count": 104,
      "outputs": []
    },
    {
      "cell_type": "markdown",
      "source": [
        "## Web Scraping for Archive"
      ],
      "metadata": {
        "id": "PUrJchAOPIcA"
      }
    },
    {
      "cell_type": "code",
      "source": [
        "# Before we begin, run this cell if you are using Colab\n",
        "#!git clone -b 3-ysi-tutorial https://github.com/nestauk/im-tutorials.git"
      ],
      "metadata": {
        "id": "UW4-LDgBPIAk"
      },
      "execution_count": null,
      "outputs": []
    },
    {
      "cell_type": "code",
      "source": [
        "# Imports\n",
        "import requests\n",
        "import numpy as np\n",
        "import pandas as pd\n",
        "from bs4 import BeautifulSoup\n",
        "import matplotlib.pyplot as plt\n",
        "\n",
        "%matplotlib inline"
      ],
      "metadata": {
        "id": "-dZSFnBvPNSY"
      },
      "execution_count": null,
      "outputs": []
    },
    {
      "cell_type": "code",
      "source": [
        "# given homepage\n",
        "given_url = 'https://www.walesonline.co.uk/whats-on/whats-on-news/wordle-214-previous-answers-tips-22798257'\n",
        "\n",
        "# Use requests to retrieve data from a given URL\n",
        "given_response = requests.get(given_url)\n",
        "\n",
        "# Parse the whole HTML page using BeautifulSoup\n",
        "given_soup = BeautifulSoup(given_response.text, 'html.parser')\n",
        "\n",
        "# Title of the parsed page\n",
        "given_soup.title"
      ],
      "metadata": {
        "colab": {
          "base_uri": "https://localhost:8080/"
        },
        "id": "OIK49EDzPYP-",
        "outputId": "d696ecc8-a397-4dea-85b7-2aa7718f1e60"
      },
      "execution_count": 105,
      "outputs": [
        {
          "output_type": "execute_result",
          "data": {
            "text/plain": [
              "<title>Wordle 235: All previous answers, tips and words to begin viral word puzzle - Wales Online</title>"
            ]
          },
          "metadata": {},
          "execution_count": 105
        }
      ]
    },
    {
      "cell_type": "markdown",
      "source": [
        "### Get words data"
      ],
      "metadata": {
        "id": "qhNEALfXPs3w"
      }
    },
    {
      "cell_type": "code",
      "source": [
        "\n",
        "widget_list = given_soup.find_all(attrs={'class':'content-column'})"
      ],
      "metadata": {
        "id": "KVW7jWA_SVfZ"
      },
      "execution_count": 106,
      "outputs": []
    },
    {
      "cell_type": "code",
      "source": [
        " all_prev_word_list = widget_list[0].ul.text.split(' #')"
      ],
      "metadata": {
        "id": "rCehu_RaV365"
      },
      "execution_count": 107,
      "outputs": []
    },
    {
      "cell_type": "code",
      "source": [
        "df_prev = pd.Series(all_prev_word_list).str.split('-',expand=True)"
      ],
      "metadata": {
        "id": "giZ4QHoDaXgq"
      },
      "execution_count": 108,
      "outputs": []
    },
    {
      "cell_type": "code",
      "source": [
        "df_prev = df_prev.rename(columns ={0:'Index_val',1:'Word',2:'Date'})"
      ],
      "metadata": {
        "id": "eQkxFUA5a42D"
      },
      "execution_count": 109,
      "outputs": []
    },
    {
      "cell_type": "code",
      "source": [
        " if df_prev.iloc[:1]['Word'].isnull().any():\n",
        "  df_prev = df_prev.iloc[1:]"
      ],
      "metadata": {
        "id": "Mjj8Q4inbJxe"
      },
      "execution_count": 110,
      "outputs": []
    },
    {
      "cell_type": "code",
      "source": [
        "start_date = df_prev.iloc[-1:]['Date'].values[0]"
      ],
      "metadata": {
        "id": "vbPspCjTbpXx"
      },
      "execution_count": 111,
      "outputs": []
    },
    {
      "cell_type": "code",
      "source": [
        "df_prev['Date'] = pd.date_range(start=start_date,freq='D',periods=len(df_prev)).sort_values(ascending=False)"
      ],
      "metadata": {
        "id": "y8AD-OiLcG96"
      },
      "execution_count": 112,
      "outputs": []
    },
    {
      "cell_type": "code",
      "source": [
        "df_prev['Word'] = df_prev['Word'].str.lower().str.strip()"
      ],
      "metadata": {
        "id": "RKEQnuHvce3_"
      },
      "execution_count": 113,
      "outputs": []
    },
    {
      "cell_type": "code",
      "source": [
        ""
      ],
      "metadata": {
        "id": "mwnJR10mFmns"
      },
      "execution_count": 114,
      "outputs": []
    },
    {
      "cell_type": "markdown",
      "source": [
        "## Below is testing against the real data"
      ],
      "metadata": {
        "id": "7ZycX5OspvNW"
      }
    },
    {
      "cell_type": "code",
      "source": [
        "def get_input():\n",
        "  '''\n",
        "  [gets input word and the color patter input]\n",
        "  pattern: g for green , y for yellow , black for black\n",
        "  \n",
        "  '''\n",
        "  input_word = input('WOrd:')\n",
        "\n",
        "  input_pattern = input('pattern:')\n",
        "  return input_word,input_pattern"
      ],
      "metadata": {
        "id": "Tx8Ep0sSU04r"
      },
      "execution_count": 115,
      "outputs": []
    },
    {
      "cell_type": "code",
      "source": [
        ""
      ],
      "metadata": {
        "id": "pE5FX8kjlxAu"
      },
      "execution_count": 115,
      "outputs": []
    },
    {
      "cell_type": "code",
      "source": [
        "def check_answers(useful_words):\n",
        "  ''' checks answer after prompting input , input and pattern need to be supplied by user\n",
        "  args: useful_words: word list from dictionary for suggestions'''\n",
        "  all_letters = list(string.ascii_lowercase)\n",
        "  attempts = 6\n",
        "  all_word = useful_words.copy()\n",
        "\n",
        "  for i in range(0,attempts):\n",
        "    word,pattern = get_input()\n",
        "    if pattern == 'ggggg':\n",
        "      break\n",
        "    for loc,(let,pat) in enumerate(zip(word,pattern)):\n",
        "      if pat =='b':\n",
        "          if let in all_letters:\n",
        "            all_letters.remove(let)\n",
        "            all_word = [word for word in all_word if let not in word]\n",
        "      elif pat == 'g':\n",
        "        all_word = [word for word in all_word if word[loc]==let]\n",
        "      elif pat == 'y':\n",
        "        all_word = [word for word in all_word if let in word and word[loc]!=let]\n",
        "\n",
        "    print(all_word[:20])\n",
        "    \n",
        "\n",
        "\n",
        "\n",
        "  \n",
        "\n",
        "    \n",
        "\n",
        "\n",
        "\n",
        "\n",
        "\n"
      ],
      "metadata": {
        "id": "a2keR99kVUx0"
      },
      "execution_count": 123,
      "outputs": []
    },
    {
      "cell_type": "code",
      "source": [
        "check_answers(useful_words)"
      ],
      "metadata": {
        "id": "StjA_3_-p2pp",
        "colab": {
          "base_uri": "https://localhost:8080/"
        },
        "outputId": "f5c9dff4-8b68-4d8d-d7a0-2ecb5298d391"
      },
      "execution_count": 124,
      "outputs": [
        {
          "name": "stdout",
          "output_type": "stream",
          "text": [
            "WOrd:adieu\n",
            "pattern:ggggg\n"
          ]
        }
      ]
    },
    {
      "cell_type": "markdown",
      "source": [
        "## Test Against any random word, without any input\n",
        "### Strategy used:\n",
        "\n",
        "The useful_words listed is sorted by frequency, so use the top element of the available words"
      ],
      "metadata": {
        "id": "1YRycJ0ap4P1"
      }
    },
    {
      "cell_type": "code",
      "source": [
        "def give_pattern(given_word,truth_word):\n",
        "  out_pat = ''\n",
        "  for giv_let, tru_let in zip(given_word,truth_word):\n",
        "    \n",
        "    if giv_let==tru_let:\n",
        "      out_pat +='g'\n",
        "    elif giv_let in truth_word:\n",
        "      out_pat +='y'\n",
        "    else:\n",
        "      out_pat +='b'\n",
        "  return out_pat\n",
        "\n"
      ],
      "metadata": {
        "id": "LLzOUj8udOKT"
      },
      "execution_count": 125,
      "outputs": []
    },
    {
      "cell_type": "code",
      "source": [
        "import numpy as np\n"
      ],
      "metadata": {
        "id": "xESxU_1dd3Oq"
      },
      "execution_count": 126,
      "outputs": []
    },
    {
      "cell_type": "markdown",
      "source": [
        "## Checking against randomly chosen previous word\n",
        "Strategy:\n",
        "1. Use Starting word\n",
        "2. Remove the words that do not fit the criteria anymore\n",
        "3. Then use the most common word \n",
        "4. repeat 2 until attempts maxed out"
      ],
      "metadata": {
        "id": "rbZxfAwSxqRC"
      }
    },
    {
      "cell_type": "code",
      "source": [
        "import string\n",
        "all_letters = list(string.ascii_lowercase)\n",
        "attempts = 6\n",
        "all_word = useful_words.copy()\n",
        "\n",
        "answer_word = np.random.choice(df_prev['Word'],1)[0]       #this is what we are trying to guess\n",
        "\n",
        "\n",
        "word = 'adieu' # starting word\n",
        "\n",
        "for i in range(0,attempts):\n",
        "  print(f'This is Attempt:{i+1}')\n",
        "  if word == answer_word:\n",
        "    print('answer_word is found')\n",
        "    break\n",
        "  pattern = give_pattern(word,answer_word)\n",
        "  \n",
        "  for loc,(let,pat) in enumerate(zip(word,pattern)):\n",
        "    if pat =='b':\n",
        "        if let in all_letters:\n",
        "          all_letters.remove(let)\n",
        "          all_word = [word for word in all_word if let not in word]\n",
        "    elif pat == 'g':\n",
        "      all_word = [word for word in all_word if word[loc]==let]\n",
        "    elif pat == 'y':\n",
        "      all_word = [word for word in all_word if let in word and word[loc]!=let]\n",
        "  \n",
        "  print(word,pattern)\n",
        "  \n",
        "  word = all_word[0]\n",
        "  print(all_word[:5])\n",
        "\n",
        "print('-'*100)\n",
        "print(f'THe answer is:{answer_word}')\n",
        "\n",
        "\n",
        "  \n",
        "\n",
        "    \n",
        "\n",
        "\n",
        "\n",
        "\n",
        "\n",
        "\n",
        "\n"
      ],
      "metadata": {
        "colab": {
          "base_uri": "https://localhost:8080/"
        },
        "id": "vxSFlBdNVVzC",
        "outputId": "bbb67448-13cd-425b-8543-7c40c45565c8"
      },
      "execution_count": 128,
      "outputs": [
        {
          "output_type": "stream",
          "name": "stdout",
          "text": [
            "This is Attempt:1\n",
            "adieu bbgbb\n",
            "['which', 'click', 'think', 'still', 'print']\n",
            "This is Attempt:2\n",
            "which bbgbb\n",
            "['still', 'print', 'point', 'going', 'prior']\n",
            "This is Attempt:3\n",
            "still yygbb\n",
            "['trips', 'moist', 'frist', 'brits', 'trims']\n",
            "This is Attempt:4\n",
            "trips ybgby\n",
            "['moist', 'joist', 'nxist', 'foist', 'osint']\n",
            "This is Attempt:5\n",
            "answer_word is found\n",
            "----------------------------------------------------------------------------------------------------\n",
            "THe answer is:moist\n"
          ]
        }
      ]
    },
    {
      "cell_type": "code",
      "source": [
        "import string\n",
        "\n",
        "\n",
        "\n",
        "\n",
        "\n",
        "results_dict = {}\n",
        "for answer_word in df_prev['Word']:\n",
        "  \n",
        "  word = 'adieu' # starting word\n",
        "  all_letters = list(string.ascii_lowercase)\n",
        "  attempts = 6\n",
        "  all_word = useful_words.copy()\n",
        "\n",
        "\n",
        "  for i in range(0,attempts):\n",
        "    \n",
        "    if word == answer_word:\n",
        "      \n",
        "      break\n",
        "    pattern = give_pattern(word,answer_word)\n",
        "    \n",
        "    for loc,(let,pat) in enumerate(zip(word,pattern)):\n",
        "      if pat =='b':\n",
        "          if let in all_letters:\n",
        "            all_letters.remove(let)\n",
        "            all_word = [word for word in all_word if let not in word]\n",
        "      elif pat == 'g':\n",
        "        all_word = [word for word in all_word if word[loc]==let]\n",
        "      elif pat == 'y':\n",
        "        all_word = [word for word in all_word if let in word and word[loc]!=let]\n",
        "    \n",
        "    \n",
        "    \n",
        "    word = all_word[0]\n",
        "  \n",
        "  results_dict.update({answer_word:i})\n",
        "  \n",
        "\n",
        "    \n",
        "\n",
        "    \n",
        "\n",
        "\n",
        "\n",
        "\n",
        "\n",
        "\n",
        "\n"
      ],
      "metadata": {
        "id": "fV59k8-4edwV"
      },
      "execution_count": 129,
      "outputs": []
    },
    {
      "cell_type": "code",
      "source": [
        "pd.json_normalize(results_dict).T.reset_index()"
      ],
      "metadata": {
        "colab": {
          "base_uri": "https://localhost:8080/",
          "height": 1000
        },
        "id": "Q981wZmpfNpL",
        "outputId": "c3e91b71-1442-4a8f-df7a-decf7d26db64"
      },
      "execution_count": 130,
      "outputs": [
        {
          "output_type": "execute_result",
          "data": {
            "text/html": [
              "\n",
              "  <div id=\"df-fd861e1f-7ffc-4d73-843d-fb910f041a45\">\n",
              "    <div class=\"colab-df-container\">\n",
              "      <div>\n",
              "<style scoped>\n",
              "    .dataframe tbody tr th:only-of-type {\n",
              "        vertical-align: middle;\n",
              "    }\n",
              "\n",
              "    .dataframe tbody tr th {\n",
              "        vertical-align: top;\n",
              "    }\n",
              "\n",
              "    .dataframe thead th {\n",
              "        text-align: right;\n",
              "    }\n",
              "</style>\n",
              "<table border=\"1\" class=\"dataframe\">\n",
              "  <thead>\n",
              "    <tr style=\"text-align: right;\">\n",
              "      <th></th>\n",
              "      <th>index</th>\n",
              "      <th>0</th>\n",
              "    </tr>\n",
              "  </thead>\n",
              "  <tbody>\n",
              "    <tr>\n",
              "      <th>0</th>\n",
              "      <td>humor</td>\n",
              "      <td>3</td>\n",
              "    </tr>\n",
              "    <tr>\n",
              "      <th>1</th>\n",
              "      <td>frame</td>\n",
              "      <td>3</td>\n",
              "    </tr>\n",
              "    <tr>\n",
              "      <th>2</th>\n",
              "      <td>elder</td>\n",
              "      <td>2</td>\n",
              "    </tr>\n",
              "    <tr>\n",
              "      <th>3</th>\n",
              "      <td>skill</td>\n",
              "      <td>3</td>\n",
              "    </tr>\n",
              "    <tr>\n",
              "      <th>4</th>\n",
              "      <td>aloft</td>\n",
              "      <td>3</td>\n",
              "    </tr>\n",
              "    <tr>\n",
              "      <th>5</th>\n",
              "      <td>pleat</td>\n",
              "      <td>4</td>\n",
              "    </tr>\n",
              "    <tr>\n",
              "      <th>6</th>\n",
              "      <td>shard</td>\n",
              "      <td>3</td>\n",
              "    </tr>\n",
              "    <tr>\n",
              "      <th>7</th>\n",
              "      <td>moist</td>\n",
              "      <td>4</td>\n",
              "    </tr>\n",
              "    <tr>\n",
              "      <th>8</th>\n",
              "      <td>those</td>\n",
              "      <td>2</td>\n",
              "    </tr>\n",
              "    <tr>\n",
              "      <th>9</th>\n",
              "      <td>light</td>\n",
              "      <td>3</td>\n",
              "    </tr>\n",
              "    <tr>\n",
              "      <th>10</th>\n",
              "      <td>wrung</td>\n",
              "      <td>3</td>\n",
              "    </tr>\n",
              "    <tr>\n",
              "      <th>11</th>\n",
              "      <td>could</td>\n",
              "      <td>2</td>\n",
              "    </tr>\n",
              "    <tr>\n",
              "      <th>12</th>\n",
              "      <td>perky</td>\n",
              "      <td>4</td>\n",
              "    </tr>\n",
              "    <tr>\n",
              "      <th>13</th>\n",
              "      <td>mount</td>\n",
              "      <td>4</td>\n",
              "    </tr>\n",
              "    <tr>\n",
              "      <th>14</th>\n",
              "      <td>whack</td>\n",
              "      <td>4</td>\n",
              "    </tr>\n",
              "    <tr>\n",
              "      <th>15</th>\n",
              "      <td>sugar</td>\n",
              "      <td>3</td>\n",
              "    </tr>\n",
              "    <tr>\n",
              "      <th>16</th>\n",
              "      <td>knoll</td>\n",
              "      <td>4</td>\n",
              "    </tr>\n",
              "    <tr>\n",
              "      <th>17</th>\n",
              "      <td>crimp</td>\n",
              "      <td>3</td>\n",
              "    </tr>\n",
              "    <tr>\n",
              "      <th>18</th>\n",
              "      <td>wince</td>\n",
              "      <td>4</td>\n",
              "    </tr>\n",
              "    <tr>\n",
              "      <th>19</th>\n",
              "      <td>prick</td>\n",
              "      <td>5</td>\n",
              "    </tr>\n",
              "    <tr>\n",
              "      <th>20</th>\n",
              "      <td>robot</td>\n",
              "      <td>2</td>\n",
              "    </tr>\n",
              "    <tr>\n",
              "      <th>21</th>\n",
              "      <td>point</td>\n",
              "      <td>4</td>\n",
              "    </tr>\n",
              "    <tr>\n",
              "      <th>22</th>\n",
              "      <td>proxy</td>\n",
              "      <td>4</td>\n",
              "    </tr>\n",
              "    <tr>\n",
              "      <th>23</th>\n",
              "      <td>shire</td>\n",
              "      <td>2</td>\n",
              "    </tr>\n",
              "    <tr>\n",
              "      <th>24</th>\n",
              "      <td>solar</td>\n",
              "      <td>2</td>\n",
              "    </tr>\n",
              "    <tr>\n",
              "      <th>25</th>\n",
              "      <td>panic</td>\n",
              "      <td>2</td>\n",
              "    </tr>\n",
              "    <tr>\n",
              "      <th>26</th>\n",
              "      <td>tangy</td>\n",
              "      <td>5</td>\n",
              "    </tr>\n",
              "    <tr>\n",
              "      <th>27</th>\n",
              "      <td>abbey</td>\n",
              "      <td>4</td>\n",
              "    </tr>\n",
              "    <tr>\n",
              "      <th>28</th>\n",
              "      <td>favor</td>\n",
              "      <td>4</td>\n",
              "    </tr>\n",
              "    <tr>\n",
              "      <th>29</th>\n",
              "      <td>drink</td>\n",
              "      <td>3</td>\n",
              "    </tr>\n",
              "    <tr>\n",
              "      <th>30</th>\n",
              "      <td>query</td>\n",
              "      <td>2</td>\n",
              "    </tr>\n",
              "    <tr>\n",
              "      <th>31</th>\n",
              "      <td>gorge</td>\n",
              "      <td>5</td>\n",
              "    </tr>\n",
              "    <tr>\n",
              "      <th>32</th>\n",
              "      <td>crank</td>\n",
              "      <td>5</td>\n",
              "    </tr>\n",
              "    <tr>\n",
              "      <th>33</th>\n",
              "      <td>slump</td>\n",
              "      <td>3</td>\n",
              "    </tr>\n",
              "    <tr>\n",
              "      <th>34</th>\n",
              "      <td>banal</td>\n",
              "      <td>3</td>\n",
              "    </tr>\n",
              "    <tr>\n",
              "      <th>35</th>\n",
              "      <td>tiger</td>\n",
              "      <td>2</td>\n",
              "    </tr>\n",
              "    <tr>\n",
              "      <th>36</th>\n",
              "      <td>siege</td>\n",
              "      <td>3</td>\n",
              "    </tr>\n",
              "    <tr>\n",
              "      <th>37</th>\n",
              "      <td>truss</td>\n",
              "      <td>3</td>\n",
              "    </tr>\n",
              "    <tr>\n",
              "      <th>38</th>\n",
              "      <td>boost</td>\n",
              "      <td>2</td>\n",
              "    </tr>\n",
              "    <tr>\n",
              "      <th>39</th>\n",
              "      <td>rebus</td>\n",
              "      <td>4</td>\n",
              "    </tr>\n",
              "  </tbody>\n",
              "</table>\n",
              "</div>\n",
              "      <button class=\"colab-df-convert\" onclick=\"convertToInteractive('df-fd861e1f-7ffc-4d73-843d-fb910f041a45')\"\n",
              "              title=\"Convert this dataframe to an interactive table.\"\n",
              "              style=\"display:none;\">\n",
              "        \n",
              "  <svg xmlns=\"http://www.w3.org/2000/svg\" height=\"24px\"viewBox=\"0 0 24 24\"\n",
              "       width=\"24px\">\n",
              "    <path d=\"M0 0h24v24H0V0z\" fill=\"none\"/>\n",
              "    <path d=\"M18.56 5.44l.94 2.06.94-2.06 2.06-.94-2.06-.94-.94-2.06-.94 2.06-2.06.94zm-11 1L8.5 8.5l.94-2.06 2.06-.94-2.06-.94L8.5 2.5l-.94 2.06-2.06.94zm10 10l.94 2.06.94-2.06 2.06-.94-2.06-.94-.94-2.06-.94 2.06-2.06.94z\"/><path d=\"M17.41 7.96l-1.37-1.37c-.4-.4-.92-.59-1.43-.59-.52 0-1.04.2-1.43.59L10.3 9.45l-7.72 7.72c-.78.78-.78 2.05 0 2.83L4 21.41c.39.39.9.59 1.41.59.51 0 1.02-.2 1.41-.59l7.78-7.78 2.81-2.81c.8-.78.8-2.07 0-2.86zM5.41 20L4 18.59l7.72-7.72 1.47 1.35L5.41 20z\"/>\n",
              "  </svg>\n",
              "      </button>\n",
              "      \n",
              "  <style>\n",
              "    .colab-df-container {\n",
              "      display:flex;\n",
              "      flex-wrap:wrap;\n",
              "      gap: 12px;\n",
              "    }\n",
              "\n",
              "    .colab-df-convert {\n",
              "      background-color: #E8F0FE;\n",
              "      border: none;\n",
              "      border-radius: 50%;\n",
              "      cursor: pointer;\n",
              "      display: none;\n",
              "      fill: #1967D2;\n",
              "      height: 32px;\n",
              "      padding: 0 0 0 0;\n",
              "      width: 32px;\n",
              "    }\n",
              "\n",
              "    .colab-df-convert:hover {\n",
              "      background-color: #E2EBFA;\n",
              "      box-shadow: 0px 1px 2px rgba(60, 64, 67, 0.3), 0px 1px 3px 1px rgba(60, 64, 67, 0.15);\n",
              "      fill: #174EA6;\n",
              "    }\n",
              "\n",
              "    [theme=dark] .colab-df-convert {\n",
              "      background-color: #3B4455;\n",
              "      fill: #D2E3FC;\n",
              "    }\n",
              "\n",
              "    [theme=dark] .colab-df-convert:hover {\n",
              "      background-color: #434B5C;\n",
              "      box-shadow: 0px 1px 3px 1px rgba(0, 0, 0, 0.15);\n",
              "      filter: drop-shadow(0px 1px 2px rgba(0, 0, 0, 0.3));\n",
              "      fill: #FFFFFF;\n",
              "    }\n",
              "  </style>\n",
              "\n",
              "      <script>\n",
              "        const buttonEl =\n",
              "          document.querySelector('#df-fd861e1f-7ffc-4d73-843d-fb910f041a45 button.colab-df-convert');\n",
              "        buttonEl.style.display =\n",
              "          google.colab.kernel.accessAllowed ? 'block' : 'none';\n",
              "\n",
              "        async function convertToInteractive(key) {\n",
              "          const element = document.querySelector('#df-fd861e1f-7ffc-4d73-843d-fb910f041a45');\n",
              "          const dataTable =\n",
              "            await google.colab.kernel.invokeFunction('convertToInteractive',\n",
              "                                                     [key], {});\n",
              "          if (!dataTable) return;\n",
              "\n",
              "          const docLinkHtml = 'Like what you see? Visit the ' +\n",
              "            '<a target=\"_blank\" href=https://colab.research.google.com/notebooks/data_table.ipynb>data table notebook</a>'\n",
              "            + ' to learn more about interactive tables.';\n",
              "          element.innerHTML = '';\n",
              "          dataTable['output_type'] = 'display_data';\n",
              "          await google.colab.output.renderOutput(dataTable, element);\n",
              "          const docLink = document.createElement('div');\n",
              "          docLink.innerHTML = docLinkHtml;\n",
              "          element.appendChild(docLink);\n",
              "        }\n",
              "      </script>\n",
              "    </div>\n",
              "  </div>\n",
              "  "
            ],
            "text/plain": [
              "    index  0\n",
              "0   humor  3\n",
              "1   frame  3\n",
              "2   elder  2\n",
              "3   skill  3\n",
              "4   aloft  3\n",
              "5   pleat  4\n",
              "6   shard  3\n",
              "7   moist  4\n",
              "8   those  2\n",
              "9   light  3\n",
              "10  wrung  3\n",
              "11  could  2\n",
              "12  perky  4\n",
              "13  mount  4\n",
              "14  whack  4\n",
              "15  sugar  3\n",
              "16  knoll  4\n",
              "17  crimp  3\n",
              "18  wince  4\n",
              "19  prick  5\n",
              "20  robot  2\n",
              "21  point  4\n",
              "22  proxy  4\n",
              "23  shire  2\n",
              "24  solar  2\n",
              "25  panic  2\n",
              "26  tangy  5\n",
              "27  abbey  4\n",
              "28  favor  4\n",
              "29  drink  3\n",
              "30  query  2\n",
              "31  gorge  5\n",
              "32  crank  5\n",
              "33  slump  3\n",
              "34  banal  3\n",
              "35  tiger  2\n",
              "36  siege  3\n",
              "37  truss  3\n",
              "38  boost  2\n",
              "39  rebus  4"
            ]
          },
          "metadata": {},
          "execution_count": 130
        }
      ]
    },
    {
      "cell_type": "markdown",
      "source": [
        "\n",
        "\n",
        "# Checking Efficacy of Starting Words\n"
      ],
      "metadata": {
        "id": "eLE3F-XioaqB"
      }
    },
    {
      "cell_type": "code",
      "source": [
        ""
      ],
      "metadata": {
        "id": "09z1kWmWn9bL"
      },
      "execution_count": 130,
      "outputs": []
    },
    {
      "cell_type": "code",
      "source": [
        "\n",
        "starting_words_list = ['radio','adieu','crane','stare','audio','roate','roast','ratio','arise','tears']\n",
        "exp_rep_num = 1000\n",
        "out_dict = {}\n",
        "\n",
        "for starting_word in starting_words_list :\n",
        "  corr_ans = 0\n",
        "  wrong_ans = []\n",
        "  attempt_list = []\n",
        "  for i in range(0,exp_rep_num): # repeating experiment\n",
        "    all_letters = list(string.ascii_lowercase)\n",
        "    attempts = 6\n",
        "    all_word = useful_words.copy()\n",
        "    word = starting_word\n",
        "    \n",
        "\n",
        "    #answer_word = np.random.choice(useful_words,1)[0]\n",
        "    answer_word = np.random.choice(df_prev['Word'],1)[0]\n",
        "    for attempt in range(0,attempts):\n",
        "      \n",
        "      if word == answer_word:\n",
        "        \n",
        "        break\n",
        "      pattern = give_pattern(word,answer_word)\n",
        "      \n",
        "      for loc,(let,pat) in enumerate(zip(word,pattern)):\n",
        "        if pat =='b':\n",
        "            if let in all_letters:\n",
        "              all_letters.remove(let)\n",
        "              all_word = [word for word in all_word if let not in word]\n",
        "        elif pat == 'g':\n",
        "          all_word = [word for word in all_word if word[loc]==let]\n",
        "        elif pat == 'y':\n",
        "          all_word = [word for word in all_word if let in word and word[loc]!=let]\n",
        "      \n",
        "      \n",
        "      \n",
        "      word = all_word[0]\n",
        "\n",
        "    attempt_list.append(attempt+1)\n",
        "      \n",
        "    if word == answer_word:\n",
        "      corr_ans +=1\n",
        "    else:\n",
        "      wrong_ans.append(answer_word)\n",
        "    all_data_dict ={'attempt':attempt_list,\n",
        "                    'corr_ans':corr_ans,\n",
        "                    'wrong_ans':wrong_ans} \n",
        "    \n",
        "  out_dict.update({starting_word:all_data_dict} )\n",
        "  \n",
        "\n",
        "\n",
        "  \n",
        "\n",
        "    \n",
        "\n",
        "\n",
        "\n",
        "\n",
        "\n",
        "\n",
        "\n",
        "\n",
        "\n"
      ],
      "metadata": {
        "id": "Zfd8_tiyZSi_"
      },
      "execution_count": null,
      "outputs": []
    },
    {
      "cell_type": "code",
      "source": [
        "df_start_results = pd.DataFrame({})"
      ],
      "metadata": {
        "id": "EiRPcoZBlp1J"
      },
      "execution_count": null,
      "outputs": []
    },
    {
      "cell_type": "code",
      "source": [
        "df_start_results = pd.DataFrame({})\n",
        "for starting_word in starting_words_list:\n",
        "  attempts_avg = sum(out_dict[starting_word]['attempt'])/exp_rep_num\n",
        "  #print(f'The average attempts for {starting_word} is {attempts_avg}')\n",
        "\n",
        "  corr_pct = 1-(len(out_dict[starting_word]['wrong_ans'])/exp_rep_num)\n",
        "  #print(f'The percentage of correct answer for  {starting_word} is {corr_pct*100}%')\n",
        "  thresh_list = []\n",
        "  thresh_res_list = []\n",
        "  for thresh_val in range(3,7):\n",
        "    pct_less_than = sum([i<thresh_val for i in out_dict[starting_word]['attempt']])/len(out_dict[starting_word]['attempt'])\n",
        "    thresh_list.append(f'Prob_LessThan_{thresh_val}')\n",
        "    thresh_res_list.append(pct_less_than)\n",
        "    #print(f'The chance of correct answer being found in  less than  {thresh_val} attempts with starting word: {starting_word} is {pct_less_than*100}%')\n",
        "  df_results_chk = pd.DataFrame(data=np.array([[starting_word,corr_pct,attempts_avg]+ thresh_res_list]),columns=['StartingWord','PctCorrect','AvgAttempts']+thresh_list)\n",
        "  df_start_results = df_start_results.append(df_results_chk)\n",
        "\n",
        "  "
      ],
      "metadata": {
        "id": "uiwRysmqoQ2y"
      },
      "execution_count": null,
      "outputs": []
    },
    {
      "cell_type": "code",
      "source": [
        "df_start_results = df_start_results.sort_values(by='AvgAttempts',ascending=True).reset_index(drop=True)"
      ],
      "metadata": {
        "id": "UWnI5qQypmg0"
      },
      "execution_count": null,
      "outputs": []
    },
    {
      "cell_type": "code",
      "source": [
        "\n",
        "df_start_results"
      ],
      "metadata": {
        "colab": {
          "base_uri": "https://localhost:8080/",
          "height": 363
        },
        "id": "i_fwoe2ZnQTT",
        "outputId": "2f526afb-7a77-485d-fade-a17b0ef7cdce"
      },
      "execution_count": null,
      "outputs": [
        {
          "output_type": "execute_result",
          "data": {
            "text/html": [
              "\n",
              "  <div id=\"df-12473583-0c78-44ac-bf3b-ab5440c29a0e\">\n",
              "    <div class=\"colab-df-container\">\n",
              "      <div>\n",
              "<style scoped>\n",
              "    .dataframe tbody tr th:only-of-type {\n",
              "        vertical-align: middle;\n",
              "    }\n",
              "\n",
              "    .dataframe tbody tr th {\n",
              "        vertical-align: top;\n",
              "    }\n",
              "\n",
              "    .dataframe thead th {\n",
              "        text-align: right;\n",
              "    }\n",
              "</style>\n",
              "<table border=\"1\" class=\"dataframe\">\n",
              "  <thead>\n",
              "    <tr style=\"text-align: right;\">\n",
              "      <th></th>\n",
              "      <th>StartingWord</th>\n",
              "      <th>PctCorrect</th>\n",
              "      <th>AvgAttempts</th>\n",
              "      <th>Prob_LessThan_3</th>\n",
              "      <th>Prob_LessThan_4</th>\n",
              "      <th>Prob_LessThan_5</th>\n",
              "      <th>Prob_LessThan_6</th>\n",
              "    </tr>\n",
              "  </thead>\n",
              "  <tbody>\n",
              "    <tr>\n",
              "      <th>0</th>\n",
              "      <td>roast</td>\n",
              "      <td>1.0</td>\n",
              "      <td>3.929</td>\n",
              "      <td>0.104</td>\n",
              "      <td>0.379</td>\n",
              "      <td>0.719</td>\n",
              "      <td>0.869</td>\n",
              "    </tr>\n",
              "    <tr>\n",
              "      <th>1</th>\n",
              "      <td>roate</td>\n",
              "      <td>0.976</td>\n",
              "      <td>3.977</td>\n",
              "      <td>0.071</td>\n",
              "      <td>0.349</td>\n",
              "      <td>0.703</td>\n",
              "      <td>0.9</td>\n",
              "    </tr>\n",
              "    <tr>\n",
              "      <th>2</th>\n",
              "      <td>tears</td>\n",
              "      <td>1.0</td>\n",
              "      <td>4.004</td>\n",
              "      <td>0.023</td>\n",
              "      <td>0.362</td>\n",
              "      <td>0.696</td>\n",
              "      <td>0.915</td>\n",
              "    </tr>\n",
              "    <tr>\n",
              "      <th>3</th>\n",
              "      <td>radio</td>\n",
              "      <td>1.0</td>\n",
              "      <td>4.023</td>\n",
              "      <td>0.028</td>\n",
              "      <td>0.389</td>\n",
              "      <td>0.656</td>\n",
              "      <td>0.904</td>\n",
              "    </tr>\n",
              "    <tr>\n",
              "      <th>4</th>\n",
              "      <td>arise</td>\n",
              "      <td>0.97</td>\n",
              "      <td>4.025</td>\n",
              "      <td>0.025</td>\n",
              "      <td>0.274</td>\n",
              "      <td>0.793</td>\n",
              "      <td>0.883</td>\n",
              "    </tr>\n",
              "    <tr>\n",
              "      <th>5</th>\n",
              "      <td>stare</td>\n",
              "      <td>1.0</td>\n",
              "      <td>4.077</td>\n",
              "      <td>0.022</td>\n",
              "      <td>0.351</td>\n",
              "      <td>0.623</td>\n",
              "      <td>0.927</td>\n",
              "    </tr>\n",
              "    <tr>\n",
              "      <th>6</th>\n",
              "      <td>ratio</td>\n",
              "      <td>1.0</td>\n",
              "      <td>4.095</td>\n",
              "      <td>0.045</td>\n",
              "      <td>0.303</td>\n",
              "      <td>0.705</td>\n",
              "      <td>0.852</td>\n",
              "    </tr>\n",
              "    <tr>\n",
              "      <th>7</th>\n",
              "      <td>crane</td>\n",
              "      <td>1.0</td>\n",
              "      <td>4.119</td>\n",
              "      <td>0.027</td>\n",
              "      <td>0.225</td>\n",
              "      <td>0.753</td>\n",
              "      <td>0.876</td>\n",
              "    </tr>\n",
              "    <tr>\n",
              "      <th>8</th>\n",
              "      <td>adieu</td>\n",
              "      <td>1.0</td>\n",
              "      <td>4.182</td>\n",
              "      <td>0.0</td>\n",
              "      <td>0.284</td>\n",
              "      <td>0.625</td>\n",
              "      <td>0.909</td>\n",
              "    </tr>\n",
              "    <tr>\n",
              "      <th>9</th>\n",
              "      <td>audio</td>\n",
              "      <td>0.976</td>\n",
              "      <td>4.399</td>\n",
              "      <td>0.018</td>\n",
              "      <td>0.237</td>\n",
              "      <td>0.488</td>\n",
              "      <td>0.858</td>\n",
              "    </tr>\n",
              "  </tbody>\n",
              "</table>\n",
              "</div>\n",
              "      <button class=\"colab-df-convert\" onclick=\"convertToInteractive('df-12473583-0c78-44ac-bf3b-ab5440c29a0e')\"\n",
              "              title=\"Convert this dataframe to an interactive table.\"\n",
              "              style=\"display:none;\">\n",
              "        \n",
              "  <svg xmlns=\"http://www.w3.org/2000/svg\" height=\"24px\"viewBox=\"0 0 24 24\"\n",
              "       width=\"24px\">\n",
              "    <path d=\"M0 0h24v24H0V0z\" fill=\"none\"/>\n",
              "    <path d=\"M18.56 5.44l.94 2.06.94-2.06 2.06-.94-2.06-.94-.94-2.06-.94 2.06-2.06.94zm-11 1L8.5 8.5l.94-2.06 2.06-.94-2.06-.94L8.5 2.5l-.94 2.06-2.06.94zm10 10l.94 2.06.94-2.06 2.06-.94-2.06-.94-.94-2.06-.94 2.06-2.06.94z\"/><path d=\"M17.41 7.96l-1.37-1.37c-.4-.4-.92-.59-1.43-.59-.52 0-1.04.2-1.43.59L10.3 9.45l-7.72 7.72c-.78.78-.78 2.05 0 2.83L4 21.41c.39.39.9.59 1.41.59.51 0 1.02-.2 1.41-.59l7.78-7.78 2.81-2.81c.8-.78.8-2.07 0-2.86zM5.41 20L4 18.59l7.72-7.72 1.47 1.35L5.41 20z\"/>\n",
              "  </svg>\n",
              "      </button>\n",
              "      \n",
              "  <style>\n",
              "    .colab-df-container {\n",
              "      display:flex;\n",
              "      flex-wrap:wrap;\n",
              "      gap: 12px;\n",
              "    }\n",
              "\n",
              "    .colab-df-convert {\n",
              "      background-color: #E8F0FE;\n",
              "      border: none;\n",
              "      border-radius: 50%;\n",
              "      cursor: pointer;\n",
              "      display: none;\n",
              "      fill: #1967D2;\n",
              "      height: 32px;\n",
              "      padding: 0 0 0 0;\n",
              "      width: 32px;\n",
              "    }\n",
              "\n",
              "    .colab-df-convert:hover {\n",
              "      background-color: #E2EBFA;\n",
              "      box-shadow: 0px 1px 2px rgba(60, 64, 67, 0.3), 0px 1px 3px 1px rgba(60, 64, 67, 0.15);\n",
              "      fill: #174EA6;\n",
              "    }\n",
              "\n",
              "    [theme=dark] .colab-df-convert {\n",
              "      background-color: #3B4455;\n",
              "      fill: #D2E3FC;\n",
              "    }\n",
              "\n",
              "    [theme=dark] .colab-df-convert:hover {\n",
              "      background-color: #434B5C;\n",
              "      box-shadow: 0px 1px 3px 1px rgba(0, 0, 0, 0.15);\n",
              "      filter: drop-shadow(0px 1px 2px rgba(0, 0, 0, 0.3));\n",
              "      fill: #FFFFFF;\n",
              "    }\n",
              "  </style>\n",
              "\n",
              "      <script>\n",
              "        const buttonEl =\n",
              "          document.querySelector('#df-12473583-0c78-44ac-bf3b-ab5440c29a0e button.colab-df-convert');\n",
              "        buttonEl.style.display =\n",
              "          google.colab.kernel.accessAllowed ? 'block' : 'none';\n",
              "\n",
              "        async function convertToInteractive(key) {\n",
              "          const element = document.querySelector('#df-12473583-0c78-44ac-bf3b-ab5440c29a0e');\n",
              "          const dataTable =\n",
              "            await google.colab.kernel.invokeFunction('convertToInteractive',\n",
              "                                                     [key], {});\n",
              "          if (!dataTable) return;\n",
              "\n",
              "          const docLinkHtml = 'Like what you see? Visit the ' +\n",
              "            '<a target=\"_blank\" href=https://colab.research.google.com/notebooks/data_table.ipynb>data table notebook</a>'\n",
              "            + ' to learn more about interactive tables.';\n",
              "          element.innerHTML = '';\n",
              "          dataTable['output_type'] = 'display_data';\n",
              "          await google.colab.output.renderOutput(dataTable, element);\n",
              "          const docLink = document.createElement('div');\n",
              "          docLink.innerHTML = docLinkHtml;\n",
              "          element.appendChild(docLink);\n",
              "        }\n",
              "      </script>\n",
              "    </div>\n",
              "  </div>\n",
              "  "
            ],
            "text/plain": [
              "  StartingWord PctCorrect  ... Prob_LessThan_5 Prob_LessThan_6\n",
              "0        roast        1.0  ...           0.719           0.869\n",
              "1        roate      0.976  ...           0.703             0.9\n",
              "2        tears        1.0  ...           0.696           0.915\n",
              "3        radio        1.0  ...           0.656           0.904\n",
              "4        arise       0.97  ...           0.793           0.883\n",
              "5        stare        1.0  ...           0.623           0.927\n",
              "6        ratio        1.0  ...           0.705           0.852\n",
              "7        crane        1.0  ...           0.753           0.876\n",
              "8        adieu        1.0  ...           0.625           0.909\n",
              "9        audio      0.976  ...           0.488           0.858\n",
              "\n",
              "[10 rows x 7 columns]"
            ]
          },
          "metadata": {},
          "execution_count": 80
        }
      ]
    },
    {
      "cell_type": "code",
      "source": [
        ""
      ],
      "metadata": {
        "id": "nSklsnz-nbqu"
      },
      "execution_count": null,
      "outputs": []
    }
  ]
}